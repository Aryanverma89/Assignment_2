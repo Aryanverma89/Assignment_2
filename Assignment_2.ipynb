{
 "cells": [
  {
   "cell_type": "code",
   "execution_count": null,
   "id": "30dafff4-25ab-401b-bb53-4240613e7e5d",
   "metadata": {},
   "outputs": [],
   "source": [
    "#Q1. How do you comment code in Python? What are the different types of comments?"
   ]
  },
  {
   "cell_type": "markdown",
   "id": "23c58b09-f930-47a9-935c-b232f1ef2744",
   "metadata": {},
   "source": [
    "Comment code in python are the lines that are ignored by the interpreter during the execution of the program. \n",
    "There are three types of comments in python-\n",
    "1.Single line Comments - This type of comment starts with hashtag Symbol (#).\n",
    "2.Multiline Comments - This type of comment starts with also hashtag(#).In this we can use multiple (#) for write multiple comments. \n",
    "3.Docstring Comments- This type of comment starts with triple quotes (\"\"\" or ''') as multiple comments."
   ]
  },
  {
   "cell_type": "code",
   "execution_count": 13,
   "id": "084495d0-fcdb-46cb-bd83-07d285064ce3",
   "metadata": {},
   "outputs": [],
   "source": [
    "#Q2. What are variables in Python? How do you declare and assign values to variables?"
   ]
  },
  {
   "cell_type": "code",
   "execution_count": 8,
   "id": "e032274c-dfe7-427d-91db-35f00a40103e",
   "metadata": {},
   "outputs": [
    {
     "data": {
      "text/plain": [
       "' Ans.. Python variables are containers which is used to store data values.\\n--We can declare variables in python - ( type variable name = value ) where type is (such as int , float,str,etc.) \\nand variable name is (a,b,x) and values are (10,44.5,\"Aryan\").\\nExample... a=10,x=44.5,s=\"Aryan\"\\n--We can assign values in python by using assignment operator (=).\\n Ex... b=10 ,x=22.3,s=\"Aryan\"     '"
      ]
     },
     "execution_count": 8,
     "metadata": {},
     "output_type": "execute_result"
    }
   ],
   "source": [
    "\"\"\" Ans.. Python variables are containers which is used to store data values.\n",
    "--We can declare variables in python - ( type variable name = value ) where type is (such as int , float,str,etc.) \n",
    "and variable name is (a,b,x) and values are (10,44.5,\"Aryan\").\n",
    "Example... a=10,x=44.5,s=\"Aryan\"\n",
    "--We can assign values in python by using assignment operator (=).\n",
    " Ex... b=10 ,x=22.3,s=\"Aryan\"     \"\"\""
   ]
  },
  {
   "cell_type": "code",
   "execution_count": 14,
   "id": "582d82cb-ec40-43b1-8b11-999ef0b3683e",
   "metadata": {},
   "outputs": [],
   "source": [
    "#Q3. How do you convert one data type to another in Python?"
   ]
  },
  {
   "cell_type": "code",
   "execution_count": 27,
   "id": "8f78a8cf-d911-4303-bc16-0506ce66ed11",
   "metadata": {},
   "outputs": [],
   "source": [
    "a=10"
   ]
  },
  {
   "cell_type": "code",
   "execution_count": 28,
   "id": "f34b93e8-6b74-4cf9-8518-69742e60437c",
   "metadata": {},
   "outputs": [
    {
     "name": "stdout",
     "output_type": "stream",
     "text": [
      "10\n",
      "<class 'int'>\n"
     ]
    }
   ],
   "source": [
    "print(a)\n",
    "print(type(a))"
   ]
  },
  {
   "cell_type": "code",
   "execution_count": 29,
   "id": "6e6a8551-c536-4ea1-8140-c32b2d2648c8",
   "metadata": {},
   "outputs": [],
   "source": [
    "# convert int data type into float"
   ]
  },
  {
   "cell_type": "code",
   "execution_count": 30,
   "id": "3c758ff6-fc28-4cac-b308-a305b1cb080a",
   "metadata": {},
   "outputs": [],
   "source": [
    "f=float(a)"
   ]
  },
  {
   "cell_type": "code",
   "execution_count": 32,
   "id": "35af759e-b8af-4797-a133-f069e811e781",
   "metadata": {},
   "outputs": [
    {
     "name": "stdout",
     "output_type": "stream",
     "text": [
      "10.0\n",
      "<class 'float'>\n"
     ]
    }
   ],
   "source": [
    "print(f)\n",
    "print(type(f))"
   ]
  },
  {
   "cell_type": "code",
   "execution_count": 33,
   "id": "2ea597bc-fa22-40b3-bfec-5688f97868d8",
   "metadata": {},
   "outputs": [],
   "source": [
    "#Convert float data type into string."
   ]
  },
  {
   "cell_type": "code",
   "execution_count": 34,
   "id": "1730a225-8a66-4b3c-be7a-9ae7585d6b3a",
   "metadata": {},
   "outputs": [],
   "source": [
    "s=str(f)"
   ]
  },
  {
   "cell_type": "code",
   "execution_count": 36,
   "id": "ed89b868-8580-44ca-b3c6-6965e9f7d3fd",
   "metadata": {},
   "outputs": [
    {
     "name": "stdout",
     "output_type": "stream",
     "text": [
      "10.0\n",
      "<class 'str'>\n"
     ]
    }
   ],
   "source": [
    "print(s)\n",
    "print(type(s))"
   ]
  },
  {
   "cell_type": "code",
   "execution_count": 37,
   "id": "ea19633d-be86-4485-b616-68c297ccbe76",
   "metadata": {},
   "outputs": [],
   "source": [
    "# Q4. How do you write and execute a Python script from the command line."
   ]
  },
  {
   "cell_type": "code",
   "execution_count": 40,
   "id": "3c2c5341-bfb5-4aa6-a8c4-bfc81a15abe3",
   "metadata": {},
   "outputs": [
    {
     "data": {
      "text/plain": [
       "' Ans...   We can write and execute a python script by going to command prompt ( press win+r and write cmd )in your PC.\\nFirstly we have to write script on notepad and save it and go to command prompt and type address of your drive and files address where you saved that file and\\nenter your python script will display there.    '"
      ]
     },
     "execution_count": 40,
     "metadata": {},
     "output_type": "execute_result"
    }
   ],
   "source": [
    "\"\"\" Ans...   We can write and execute a python script by going to command prompt ( press win+r and write cmd )in your PC.\n",
    "Firstly we have to write script on notepad and save it and go to command prompt and type address of your drive and files address where you saved that file and\n",
    "enter your python script will display there.    \"\"\""
   ]
  },
  {
   "cell_type": "code",
   "execution_count": 41,
   "id": "ada9e0cc-dc8f-4d57-9148-f8ff480bc927",
   "metadata": {},
   "outputs": [],
   "source": [
    "#Q5. Given a list my_list = [1, 2, 3, 4, 5], write the code to slice the list and obtain the sub-list [2, 3]."
   ]
  },
  {
   "cell_type": "code",
   "execution_count": 42,
   "id": "d2c25d39-29d4-42c6-8037-626590d89a64",
   "metadata": {},
   "outputs": [],
   "source": [
    "my_list=[1,2,3,4,5]"
   ]
  },
  {
   "cell_type": "code",
   "execution_count": 44,
   "id": "2110dab3-553e-4425-af04-ddfaccb62688",
   "metadata": {},
   "outputs": [
    {
     "name": "stdout",
     "output_type": "stream",
     "text": [
      "[2, 3]\n"
     ]
    }
   ],
   "source": [
    "print(my_list[1:3])"
   ]
  },
  {
   "cell_type": "code",
   "execution_count": 45,
   "id": "4ee0d4ee-0cd9-4ac0-8fea-aeeeda3f71e8",
   "metadata": {},
   "outputs": [],
   "source": [
    "#Q6. What is a complex number in mathematics, and how is it represented in Python?"
   ]
  },
  {
   "cell_type": "code",
   "execution_count": 2,
   "id": "31c97fa0-18b6-4c87-9ba0-584d80ecb56a",
   "metadata": {},
   "outputs": [
    {
     "data": {
      "text/plain": [
       "'  Ans.. Complex number in mathematics are the numbers which are expressed in the form of (a+ib),where a,b are any real any real numbers\\nand i is called imaginary(iaota). \\nEX.. (2+4i),(8,5i) ,etc.   '"
      ]
     },
     "execution_count": 2,
     "metadata": {},
     "output_type": "execute_result"
    }
   ],
   "source": [
    "\"\"\"  Ans.. Complex number in mathematics are the numbers which are expressed in the form of (a+ib),where a,b are any real any real numbers\n",
    "and i is called imaginary(iaota). \n",
    "EX.. (2+4i),(8,5i) ,etc.   \"\"\""
   ]
  },
  {
   "cell_type": "code",
   "execution_count": 3,
   "id": "0a97effe-c552-4d1d-9963-b4d63cdf0f6c",
   "metadata": {},
   "outputs": [],
   "source": [
    "c=(2+4j)"
   ]
  },
  {
   "cell_type": "code",
   "execution_count": 6,
   "id": "f160fd14-516a-4645-9986-55c40b172d2d",
   "metadata": {},
   "outputs": [
    {
     "data": {
      "text/plain": [
       "complex"
      ]
     },
     "execution_count": 6,
     "metadata": {},
     "output_type": "execute_result"
    }
   ],
   "source": [
    "type(c)"
   ]
  },
  {
   "cell_type": "code",
   "execution_count": 7,
   "id": "e5565486-7b6e-45a2-ad8a-37ff7201c3a3",
   "metadata": {},
   "outputs": [
    {
     "data": {
      "text/plain": [
       "2.0"
      ]
     },
     "execution_count": 7,
     "metadata": {},
     "output_type": "execute_result"
    }
   ],
   "source": [
    "c.real"
   ]
  },
  {
   "cell_type": "code",
   "execution_count": 8,
   "id": "b7b9b27a-d97f-4b60-ab02-5e8f16bf5c3d",
   "metadata": {},
   "outputs": [
    {
     "data": {
      "text/plain": [
       "4.0"
      ]
     },
     "execution_count": 8,
     "metadata": {},
     "output_type": "execute_result"
    }
   ],
   "source": [
    "c.imag"
   ]
  },
  {
   "cell_type": "code",
   "execution_count": 9,
   "id": "b1bd98b5-5ac4-48cc-9529-e5ec28f823bc",
   "metadata": {},
   "outputs": [],
   "source": [
    "# Q7. What is the correct way to declare a variable named age and assign the value 25 to it?"
   ]
  },
  {
   "cell_type": "code",
   "execution_count": 10,
   "id": "8daa6e71-bf8a-43a3-bbe9-88d6b8921815",
   "metadata": {},
   "outputs": [],
   "source": [
    "age=25"
   ]
  },
  {
   "cell_type": "code",
   "execution_count": 11,
   "id": "71af8e65-5fb8-4fc9-b1ad-21638f3af9e2",
   "metadata": {},
   "outputs": [
    {
     "data": {
      "text/plain": [
       "int"
      ]
     },
     "execution_count": 11,
     "metadata": {},
     "output_type": "execute_result"
    }
   ],
   "source": [
    "type(age)"
   ]
  },
  {
   "cell_type": "code",
   "execution_count": 12,
   "id": "86dfa805-4d61-4713-b16a-3ee5660c7b85",
   "metadata": {},
   "outputs": [],
   "source": [
    "# Q8. Declare a variable named price and assign the value 9.99 to it. What data type does this variable belong to?"
   ]
  },
  {
   "cell_type": "code",
   "execution_count": 13,
   "id": "6c6241d1-8572-406f-9738-1597924fec77",
   "metadata": {},
   "outputs": [],
   "source": [
    "price=9.99"
   ]
  },
  {
   "cell_type": "code",
   "execution_count": 14,
   "id": "d5094eb7-339b-4fa7-a2ad-37842ca34cea",
   "metadata": {},
   "outputs": [
    {
     "data": {
      "text/plain": [
       "float"
      ]
     },
     "execution_count": 14,
     "metadata": {},
     "output_type": "execute_result"
    }
   ],
   "source": [
    "type(price)"
   ]
  },
  {
   "cell_type": "code",
   "execution_count": 15,
   "id": "8b2ff297-f237-4cd7-bf7c-b23ec35b66f7",
   "metadata": {},
   "outputs": [],
   "source": [
    "# Q9. Create a variable named name and assign your full name to it as a string. How would you print the value of this variable?"
   ]
  },
  {
   "cell_type": "code",
   "execution_count": 16,
   "id": "bb3b8060-c0e3-4c55-8215-0dae0a4c0ed2",
   "metadata": {},
   "outputs": [],
   "source": [
    "name=\"Aryan Verma\""
   ]
  },
  {
   "cell_type": "code",
   "execution_count": 17,
   "id": "3044772f-4ba4-4e66-ab59-73663baa00ad",
   "metadata": {},
   "outputs": [
    {
     "name": "stdout",
     "output_type": "stream",
     "text": [
      "Aryan Verma\n"
     ]
    }
   ],
   "source": [
    "print(name)"
   ]
  },
  {
   "cell_type": "code",
   "execution_count": 18,
   "id": "bf4f18cb-cbb4-4515-8424-43324a6da8d7",
   "metadata": {},
   "outputs": [
    {
     "data": {
      "text/plain": [
       "str"
      ]
     },
     "execution_count": 18,
     "metadata": {},
     "output_type": "execute_result"
    }
   ],
   "source": [
    "type(name)"
   ]
  },
  {
   "cell_type": "code",
   "execution_count": 19,
   "id": "58edb008-bd11-47f5-9fb9-644d79caa0a9",
   "metadata": {},
   "outputs": [],
   "source": [
    "# Q10. Given the string \"Hello, World!\", extract the substring \"World\"."
   ]
  },
  {
   "cell_type": "code",
   "execution_count": 47,
   "id": "58cbe852-7236-44a6-b558-c60e58c71707",
   "metadata": {},
   "outputs": [],
   "source": [
    "s=\"Hello, World!\""
   ]
  },
  {
   "cell_type": "code",
   "execution_count": 48,
   "id": "0bb00cb9-b4a6-475e-af42-84c1ba73cd32",
   "metadata": {},
   "outputs": [
    {
     "data": {
      "text/plain": [
       "'Hello, World!'"
      ]
     },
     "execution_count": 48,
     "metadata": {},
     "output_type": "execute_result"
    }
   ],
   "source": [
    "s"
   ]
  },
  {
   "cell_type": "code",
   "execution_count": 54,
   "id": "a0d95fe6-069a-4e13-a322-9215fe4d303e",
   "metadata": {},
   "outputs": [
    {
     "data": {
      "text/plain": [
       "'World'"
      ]
     },
     "execution_count": 54,
     "metadata": {},
     "output_type": "execute_result"
    }
   ],
   "source": [
    "s[7:12]"
   ]
  },
  {
   "cell_type": "code",
   "execution_count": 55,
   "id": "1fa8ea85-0d0c-485b-aea7-f130033fdaa4",
   "metadata": {},
   "outputs": [
    {
     "data": {
      "text/plain": [
       "7"
      ]
     },
     "execution_count": 55,
     "metadata": {},
     "output_type": "execute_result"
    }
   ],
   "source": [
    "s.find(\"World\")"
   ]
  },
  {
   "cell_type": "markdown",
   "id": "47c639e0-b68c-4d59-a9c1-8a3e409d682f",
   "metadata": {},
   "source": [
    "Q11. Create a variable named \"is_student\" and assign it a boolean value indicating whether you are \n",
    "currently a student or not."
   ]
  },
  {
   "cell_type": "code",
   "execution_count": 56,
   "id": "5591067c-6936-4b56-9ac6-d3f950e8de19",
   "metadata": {},
   "outputs": [],
   "source": [
    "is_student=True"
   ]
  },
  {
   "cell_type": "code",
   "execution_count": 57,
   "id": "270967cf-b579-4f7a-a396-fca4e5b033ce",
   "metadata": {},
   "outputs": [
    {
     "data": {
      "text/plain": [
       "bool"
      ]
     },
     "execution_count": 57,
     "metadata": {},
     "output_type": "execute_result"
    }
   ],
   "source": [
    "type(is_student)"
   ]
  },
  {
   "cell_type": "code",
   "execution_count": null,
   "id": "0c85f610-33d1-4b05-ac62-1bf5e3ba4168",
   "metadata": {},
   "outputs": [],
   "source": []
  }
 ],
 "metadata": {
  "kernelspec": {
   "display_name": "Python 3 (ipykernel)",
   "language": "python",
   "name": "python3"
  },
  "language_info": {
   "codemirror_mode": {
    "name": "ipython",
    "version": 3
   },
   "file_extension": ".py",
   "mimetype": "text/x-python",
   "name": "python",
   "nbconvert_exporter": "python",
   "pygments_lexer": "ipython3",
   "version": "3.10.8"
  }
 },
 "nbformat": 4,
 "nbformat_minor": 5
}
